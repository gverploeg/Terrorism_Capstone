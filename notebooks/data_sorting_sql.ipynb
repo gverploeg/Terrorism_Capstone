{
 "cells": [
  {
   "cell_type": "code",
   "execution_count": 1,
   "metadata": {},
   "outputs": [],
   "source": [
    "import pyspark as ps\n",
    "spark = (ps.sql.SparkSession.builder \n",
    "        .master(\"local[4]\") \n",
    "        .appName(\"df capstone\") \n",
    "        .getOrCreate()\n",
    "        )\n",
    "sc = spark.sparkContext"
   ]
  },
  {
   "cell_type": "code",
   "execution_count": 8,
   "metadata": {},
   "outputs": [
    {
     "data": {
      "text/plain": [
       "[Row(eventid=197000000001, iyear=1970, imonth=7, iday=2, approxdate=None, extended=0, resolution=None, country=58, country_txt='Dominican Republic', region=2, region_txt='Central America & Caribbean', provstate=None, city='Santo Domingo', latitude=18.456792, longitude=-69.951164, specificity=1, vicinity=0, location=None, summary=None, crit1='1', crit2='1', crit3='1', doubtterr='0', alternative=None, alternative_txt=None, multiple='0', success='1', suicide='0', attacktype1='1', attacktype1_txt='Assassination', attacktype2=None, attacktype2_txt=None, attacktype3=None, attacktype3_txt=None, targtype1='14', targtype1_txt='Private Citizens & Property', targsubtype1='68', targsubtype1_txt='Named Civilian', corp1=None, target1='Julio Guzman', natlty1='58', natlty1_txt='Dominican Republic', targtype2=None, targtype2_txt=None, targsubtype2=None, targsubtype2_txt=None, corp2=None, target2=None, natlty2=None, natlty2_txt=None, targtype3=None, targtype3_txt=None, targsubtype3=None, targsubtype3_txt=None, corp3=None, target3=None, natlty3=None, natlty3_txt=None, gname='MANO-D', gsubname=None, gname2=None, gsubname2=None, gname3=None, gsubname3=None, motive=None, guncertain1='0', guncertain2=None, guncertain3=None, individual='0', nperps=None, nperpcap=None, claimed=None, claimmode=None, claimmode_txt=None, claim2=None, claimmode2=None, claimmode2_txt=None, claim3=None, claimmode3=None, claimmode3_txt=None, compclaim=None, weaptype1='13', weaptype1_txt='Unknown', weapsubtype1=None, weapsubtype1_txt=None, weaptype2=None, weaptype2_txt=None, weapsubtype2=None, weapsubtype2_txt=None, weaptype3=None, weaptype3_txt=None, weapsubtype3=None, weapsubtype3_txt=None, weaptype4=None, weaptype4_txt=None, weapsubtype4=None, weapsubtype4_txt=None, weapdetail=None, nkill='1', nkillus=None, nkillter=None, nwound='0', nwoundus=None, nwoundte=None, property='0', propextent=None, propextent_txt=None, propvalue=None, propcomment=None, ishostkid='0', nhostkid=None, nhostkidus=None, nhours=None, ndays=None, divert=None, kidhijcountry=None, ransom='0', ransomamt=None, ransomamtus=None, ransompaid=None, ransompaidus=None, ransomnote=None, hostkidoutcome=None, hostkidoutcome_txt=None, nreleased=None, addnotes=None, scite1=None, scite2=None, scite3=None, dbsource='PGIS', INT_LOG='0', INT_IDEO='0', INT_MISC='0', INT_ANY='0', related=None),\n",
       " Row(eventid=197000000002, iyear=1970, imonth=0, iday=0, approxdate=None, extended=0, resolution=None, country=130, country_txt='Mexico', region=1, region_txt='North America', provstate='Federal', city='Mexico city', latitude=19.371887, longitude=-99.086624, specificity=1, vicinity=0, location=None, summary=None, crit1='1', crit2='1', crit3='1', doubtterr='0', alternative=None, alternative_txt=None, multiple='0', success='1', suicide='0', attacktype1='6', attacktype1_txt='Hostage Taking (Kidnapping)', attacktype2=None, attacktype2_txt=None, attacktype3=None, attacktype3_txt=None, targtype1='7', targtype1_txt='Government (Diplomatic)', targsubtype1='45', targsubtype1_txt='Diplomatic Personnel (outside of embassy, consulate)', corp1='Belgian Ambassador Daughter', target1='Nadine Chaval, daughter', natlty1='21', natlty1_txt='Belgium', targtype2=None, targtype2_txt=None, targsubtype2=None, targsubtype2_txt=None, corp2=None, target2=None, natlty2=None, natlty2_txt=None, targtype3=None, targtype3_txt=None, targsubtype3=None, targsubtype3_txt=None, corp3=None, target3=None, natlty3=None, natlty3_txt=None, gname='23rd of September Communist League', gsubname=None, gname2=None, gsubname2=None, gname3=None, gsubname3=None, motive=None, guncertain1='0', guncertain2=None, guncertain3=None, individual='0', nperps='7', nperpcap=None, claimed=None, claimmode=None, claimmode_txt=None, claim2=None, claimmode2=None, claimmode2_txt=None, claim3=None, claimmode3=None, claimmode3_txt=None, compclaim=None, weaptype1='13', weaptype1_txt='Unknown', weapsubtype1=None, weapsubtype1_txt=None, weaptype2=None, weaptype2_txt=None, weapsubtype2=None, weapsubtype2_txt=None, weaptype3=None, weaptype3_txt=None, weapsubtype3=None, weapsubtype3_txt=None, weaptype4=None, weaptype4_txt=None, weapsubtype4=None, weapsubtype4_txt=None, weapdetail=None, nkill='0', nkillus=None, nkillter=None, nwound='0', nwoundus=None, nwoundte=None, property='0', propextent=None, propextent_txt=None, propvalue=None, propcomment=None, ishostkid='1', nhostkid='1', nhostkidus='0', nhours=None, ndays=None, divert=None, kidhijcountry='Mexico', ransom='1', ransomamt='800000', ransomamtus=None, ransompaid=None, ransompaidus=None, ransomnote=None, hostkidoutcome=None, hostkidoutcome_txt=None, nreleased=None, addnotes=None, scite1=None, scite2=None, scite3=None, dbsource='PGIS', INT_LOG='0', INT_IDEO='1', INT_MISC='1', INT_ANY='1', related=None),\n",
       " Row(eventid=197001000001, iyear=1970, imonth=1, iday=0, approxdate=None, extended=0, resolution=None, country=160, country_txt='Philippines', region=5, region_txt='Southeast Asia', provstate='Tarlac', city='Unknown', latitude=15.478598, longitude=120.599741, specificity=4, vicinity=0, location=None, summary=None, crit1='1', crit2='1', crit3='1', doubtterr='0', alternative=None, alternative_txt=None, multiple='0', success='1', suicide='0', attacktype1='1', attacktype1_txt='Assassination', attacktype2=None, attacktype2_txt=None, attacktype3=None, attacktype3_txt=None, targtype1='10', targtype1_txt='Journalists & Media', targsubtype1='54', targsubtype1_txt='Radio Journalist/Staff/Facility', corp1='Voice of America', target1='Employee', natlty1='217', natlty1_txt='United States', targtype2=None, targtype2_txt=None, targsubtype2=None, targsubtype2_txt=None, corp2=None, target2=None, natlty2=None, natlty2_txt=None, targtype3=None, targtype3_txt=None, targsubtype3=None, targsubtype3_txt=None, corp3=None, target3=None, natlty3=None, natlty3_txt=None, gname='Unknown', gsubname=None, gname2=None, gsubname2=None, gname3=None, gsubname3=None, motive=None, guncertain1='0', guncertain2=None, guncertain3=None, individual='0', nperps=None, nperpcap=None, claimed=None, claimmode=None, claimmode_txt=None, claim2=None, claimmode2=None, claimmode2_txt=None, claim3=None, claimmode3=None, claimmode3_txt=None, compclaim=None, weaptype1='13', weaptype1_txt='Unknown', weapsubtype1=None, weapsubtype1_txt=None, weaptype2=None, weaptype2_txt=None, weapsubtype2=None, weapsubtype2_txt=None, weaptype3=None, weaptype3_txt=None, weapsubtype3=None, weapsubtype3_txt=None, weaptype4=None, weaptype4_txt=None, weapsubtype4=None, weapsubtype4_txt=None, weapdetail=None, nkill='1', nkillus=None, nkillter=None, nwound='0', nwoundus=None, nwoundte=None, property='0', propextent=None, propextent_txt=None, propvalue=None, propcomment=None, ishostkid='0', nhostkid=None, nhostkidus=None, nhours=None, ndays=None, divert=None, kidhijcountry=None, ransom='0', ransomamt=None, ransomamtus=None, ransompaid=None, ransompaidus=None, ransomnote=None, hostkidoutcome=None, hostkidoutcome_txt=None, nreleased=None, addnotes=None, scite1=None, scite2=None, scite3=None, dbsource='PGIS', INT_LOG='-9', INT_IDEO='-9', INT_MISC='1', INT_ANY='1', related=None),\n",
       " Row(eventid=197001000002, iyear=1970, imonth=1, iday=0, approxdate=None, extended=0, resolution=None, country=78, country_txt='Greece', region=8, region_txt='Western Europe', provstate='Attica', city='Athens', latitude=37.99749, longitude=23.762728, specificity=1, vicinity=0, location=None, summary=None, crit1='1', crit2='1', crit3='1', doubtterr='0', alternative=None, alternative_txt=None, multiple='0', success='1', suicide='0', attacktype1='3', attacktype1_txt='Bombing/Explosion', attacktype2=None, attacktype2_txt=None, attacktype3=None, attacktype3_txt=None, targtype1='7', targtype1_txt='Government (Diplomatic)', targsubtype1='46', targsubtype1_txt='Embassy/Consulate', corp1=None, target1='U.S. Embassy', natlty1='217', natlty1_txt='United States', targtype2=None, targtype2_txt=None, targsubtype2=None, targsubtype2_txt=None, corp2=None, target2=None, natlty2=None, natlty2_txt=None, targtype3=None, targtype3_txt=None, targsubtype3=None, targsubtype3_txt=None, corp3=None, target3=None, natlty3=None, natlty3_txt=None, gname='Unknown', gsubname=None, gname2=None, gsubname2=None, gname3=None, gsubname3=None, motive=None, guncertain1='0', guncertain2=None, guncertain3=None, individual='0', nperps=None, nperpcap=None, claimed=None, claimmode=None, claimmode_txt=None, claim2=None, claimmode2=None, claimmode2_txt=None, claim3=None, claimmode3=None, claimmode3_txt=None, compclaim=None, weaptype1='6', weaptype1_txt='Explosives', weapsubtype1='16', weapsubtype1_txt='Unknown Explosive Type', weaptype2=None, weaptype2_txt=None, weapsubtype2=None, weapsubtype2_txt=None, weaptype3=None, weaptype3_txt=None, weapsubtype3=None, weapsubtype3_txt=None, weaptype4=None, weaptype4_txt=None, weapsubtype4=None, weapsubtype4_txt=None, weapdetail='Explosive', nkill=None, nkillus=None, nkillter=None, nwound=None, nwoundus=None, nwoundte=None, property='1', propextent=None, propextent_txt=None, propvalue=None, propcomment=None, ishostkid='0', nhostkid=None, nhostkidus=None, nhours=None, ndays=None, divert=None, kidhijcountry=None, ransom='0', ransomamt=None, ransomamtus=None, ransompaid=None, ransompaidus=None, ransomnote=None, hostkidoutcome=None, hostkidoutcome_txt=None, nreleased=None, addnotes=None, scite1=None, scite2=None, scite3=None, dbsource='PGIS', INT_LOG='-9', INT_IDEO='-9', INT_MISC='1', INT_ANY='1', related=None),\n",
       " Row(eventid=197001000003, iyear=1970, imonth=1, iday=0, approxdate=None, extended=0, resolution=None, country=101, country_txt='Japan', region=4, region_txt='East Asia', provstate='Fukouka', city='Fukouka', latitude=33.580412, longitude=130.396361, specificity=1, vicinity=0, location=None, summary=None, crit1='1', crit2='1', crit3='1', doubtterr='-9', alternative=None, alternative_txt=None, multiple='0', success='1', suicide='0', attacktype1='7', attacktype1_txt='Facility/Infrastructure Attack', attacktype2=None, attacktype2_txt=None, attacktype3=None, attacktype3_txt=None, targtype1='7', targtype1_txt='Government (Diplomatic)', targsubtype1='46', targsubtype1_txt='Embassy/Consulate', corp1=None, target1='U.S. Consulate', natlty1='217', natlty1_txt='United States', targtype2=None, targtype2_txt=None, targsubtype2=None, targsubtype2_txt=None, corp2=None, target2=None, natlty2=None, natlty2_txt=None, targtype3=None, targtype3_txt=None, targsubtype3=None, targsubtype3_txt=None, corp3=None, target3=None, natlty3=None, natlty3_txt=None, gname='Unknown', gsubname=None, gname2=None, gsubname2=None, gname3=None, gsubname3=None, motive=None, guncertain1='0', guncertain2=None, guncertain3=None, individual='0', nperps=None, nperpcap=None, claimed=None, claimmode=None, claimmode_txt=None, claim2=None, claimmode2=None, claimmode2_txt=None, claim3=None, claimmode3=None, claimmode3_txt=None, compclaim=None, weaptype1='8', weaptype1_txt='Incendiary', weapsubtype1=None, weapsubtype1_txt=None, weaptype2=None, weaptype2_txt=None, weapsubtype2=None, weapsubtype2_txt=None, weaptype3=None, weaptype3_txt=None, weapsubtype3=None, weapsubtype3_txt=None, weaptype4=None, weaptype4_txt=None, weapsubtype4=None, weapsubtype4_txt=None, weapdetail='Incendiary', nkill=None, nkillus=None, nkillter=None, nwound=None, nwoundus=None, nwoundte=None, property='1', propextent=None, propextent_txt=None, propvalue=None, propcomment=None, ishostkid='0', nhostkid=None, nhostkidus=None, nhours=None, ndays=None, divert=None, kidhijcountry=None, ransom='0', ransomamt=None, ransomamtus=None, ransompaid=None, ransompaidus=None, ransomnote=None, hostkidoutcome=None, hostkidoutcome_txt=None, nreleased=None, addnotes=None, scite1=None, scite2=None, scite3=None, dbsource='PGIS', INT_LOG='-9', INT_IDEO='-9', INT_MISC='1', INT_ANY='1', related=None)]"
      ]
     },
     "execution_count": 8,
     "metadata": {},
     "output_type": "execute_result"
    }
   ],
   "source": [
    "terror = spark.read.csv('globalterrorism.csv',\n",
    "                         header=True,       \n",
    "                         quote='\"',         \n",
    "                         sep=\",\",           \n",
    "                         inferSchema=True)\n",
    "\n",
    "terror.take(5)\n"
   ]
  },
  {
   "cell_type": "code",
   "execution_count": 15,
   "metadata": {},
   "outputs": [
    {
     "name": "stdout",
     "output_type": "stream",
     "text": [
      "181691\n"
     ]
    }
   ],
   "source": [
    "print(terror.count())"
   ]
  },
  {
   "cell_type": "code",
   "execution_count": 23,
   "metadata": {},
   "outputs": [
    {
     "name": "stdout",
     "output_type": "stream",
     "text": [
      "+------------+-----+------------------+---------------+--------------------+--------------------+-----+\n",
      "|     eventid|iyear|       country_txt|attacktype1_txt|       targtype1_txt|               gname|nkill|\n",
      "+------------+-----+------------------+---------------+--------------------+--------------------+-----+\n",
      "|197000000001| 1970|Dominican Republic|  Assassination|Private Citizens ...|              MANO-D|    1|\n",
      "|197001000001| 1970|       Philippines|  Assassination| Journalists & Media|             Unknown|    1|\n",
      "|197001110001| 1970|          Ethiopia|        Unknown|            Military|Eritrean Liberati...|    1|\n",
      "|197001200001| 1970|         Guatemala|  Assassination|Government (Diplo...|             Unknown|    1|\n",
      "|197002100001| 1970|West Germany (FRG)|  Armed Assault| Airports & Aircraft|Popular Front for...|    1|\n",
      "+------------+-----+------------------+---------------+--------------------+--------------------+-----+\n",
      "only showing top 5 rows\n",
      "\n"
     ]
    }
   ],
   "source": [
    "terror.createOrReplaceTempView(\"ter\")\n",
    "result = spark.sql('''\n",
    "    SELECT eventid, iyear, country_txt, attacktype1_txt, targtype1_txt, gname, nkill\n",
    "    FROM ter\n",
    "    WHERE nkill >=1\n",
    "    ''')\n",
    "\n",
    "\n",
    "result.show(5)\n",
    "# result.count()\n",
    "# 82911"
   ]
  },
  {
   "cell_type": "code",
   "execution_count": 20,
   "metadata": {},
   "outputs": [
    {
     "data": {
      "text/plain": [
       "10"
      ]
     },
     "execution_count": 20,
     "metadata": {},
     "output_type": "execute_result"
    }
   ],
   "source": [
    "result.count()"
   ]
  },
  {
   "cell_type": "code",
   "execution_count": null,
   "metadata": {},
   "outputs": [],
   "source": []
  }
 ],
 "metadata": {
  "kernelspec": {
   "display_name": "Python 3",
   "language": "python",
   "name": "python3"
  },
  "language_info": {
   "codemirror_mode": {
    "name": "ipython",
    "version": 3
   },
   "file_extension": ".py",
   "mimetype": "text/x-python",
   "name": "python",
   "nbconvert_exporter": "python",
   "pygments_lexer": "ipython3",
   "version": "3.8.6"
  }
 },
 "nbformat": 4,
 "nbformat_minor": 4
}
